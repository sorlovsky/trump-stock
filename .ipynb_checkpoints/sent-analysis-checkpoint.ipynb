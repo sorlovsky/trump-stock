{
 "cells": [
  {
   "cell_type": "code",
   "execution_count": 65,
   "metadata": {
    "collapsed": true,
    "deletable": true,
    "editable": true
   },
   "outputs": [],
   "source": [
    "import nltk"
   ]
  },
  {
   "cell_type": "code",
   "execution_count": 66,
   "metadata": {
    "collapsed": true,
    "deletable": true,
    "editable": true
   },
   "outputs": [],
   "source": [
    "pos_tweets = [('Big win in Montana for Republicans!', 'positive'),\n",
    "              ('Thank you to Ford for scrapping a new plant in Mexico and creating 700 new jobs in the U.S. This is just the beginning - much more to follow', 'positive'),\n",
    "              ('Big announcement by Ford today. Major investment to be made in three Michigan plants. Car companies coming back to U.S.  JOBS! JOBS! JOBS!', 'positive'),\n",
    "              ('Today, I was thrilled to announce a commitment of $25 BILLION & 20K AMERICAN JOBS over the next 4 years. THANK YOU Charter Communications!', 'positive'),\n",
    "              ('This month we celebrate the contributions of Asian Americans &amp; Pacific Islanders that enrich our Nation. https://t.co/rEJi9ahOaY', 'positive')]\n",
    "\n",
    "neg_tweets = [('With all of the illegal acts that took place in the Clinton campaign & Obama Administration, there was never a special counsel appointed', 'negative'),\n",
    "              ('RT @mitchellvii: EXACTLY AS I SAID - House Intel Chair: We Cannot Rule Out Sr. Obama Officials Were Involved in Trump Surveillance https://…', 'negative'),\n",
    "              ('Did Hillary Clinton ever apologize for receiving the answers to the debate? Just asking!', 'negative'),\n",
    "              ('Was the brother of John Podesta paid big money to get the sanctions on Russia lifted? Did Hillary know?', 'negative'),\n",
    "              ('Such amazing reporting on unmasking and the crooked scheme against us by @foxandfriends. \"Spied on before nomination.\" The real story.', 'negative')]\n",
    "\n",
    "tweets = []\n",
    "for (words, sentiment) in pos_tweets + neg_tweets:\n",
    "    words_filtered = [e.lower() for e in words.split() if len(e) >= 3] \n",
    "    tweets.append((words_filtered, sentiment))"
   ]
  },
  {
   "cell_type": "code",
   "execution_count": 67,
   "metadata": {
    "collapsed": false,
    "deletable": true,
    "editable": true,
    "scrolled": false
   },
   "outputs": [
    {
     "data": {
      "text/plain": [
       "[(['big', 'win', 'montana', 'for', 'republicans!'], 'positive'),\n",
       " (['thank',\n",
       "   'you',\n",
       "   'ford',\n",
       "   'for',\n",
       "   'scrapping',\n",
       "   'new',\n",
       "   'plant',\n",
       "   'mexico',\n",
       "   'and',\n",
       "   'creating',\n",
       "   '700',\n",
       "   'new',\n",
       "   'jobs',\n",
       "   'the',\n",
       "   'u.s.',\n",
       "   'this',\n",
       "   'just',\n",
       "   'the',\n",
       "   'beginning',\n",
       "   'much',\n",
       "   'more',\n",
       "   'follow'],\n",
       "  'positive'),\n",
       " (['big',\n",
       "   'announcement',\n",
       "   'ford',\n",
       "   'today.',\n",
       "   'major',\n",
       "   'investment',\n",
       "   'made',\n",
       "   'three',\n",
       "   'michigan',\n",
       "   'plants.',\n",
       "   'car',\n",
       "   'companies',\n",
       "   'coming',\n",
       "   'back',\n",
       "   'u.s.',\n",
       "   'jobs!',\n",
       "   'jobs!',\n",
       "   'jobs!'],\n",
       "  'positive'),\n",
       " (['today,',\n",
       "   'was',\n",
       "   'thrilled',\n",
       "   'announce',\n",
       "   'commitment',\n",
       "   '$25',\n",
       "   'billion',\n",
       "   '20k',\n",
       "   'american',\n",
       "   'jobs',\n",
       "   'over',\n",
       "   'the',\n",
       "   'next',\n",
       "   'years.',\n",
       "   'thank',\n",
       "   'you',\n",
       "   'charter',\n",
       "   'communications!'],\n",
       "  'positive'),\n",
       " (['this',\n",
       "   'month',\n",
       "   'celebrate',\n",
       "   'the',\n",
       "   'contributions',\n",
       "   'asian',\n",
       "   'americans',\n",
       "   '&amp;',\n",
       "   'pacific',\n",
       "   'islanders',\n",
       "   'that',\n",
       "   'enrich',\n",
       "   'our',\n",
       "   'nation.',\n",
       "   'https://t.co/reji9ahoay'],\n",
       "  'positive'),\n",
       " (['with',\n",
       "   'all',\n",
       "   'the',\n",
       "   'illegal',\n",
       "   'acts',\n",
       "   'that',\n",
       "   'took',\n",
       "   'place',\n",
       "   'the',\n",
       "   'clinton',\n",
       "   'campaign',\n",
       "   'obama',\n",
       "   'administration,',\n",
       "   'there',\n",
       "   'was',\n",
       "   'never',\n",
       "   'special',\n",
       "   'counsel',\n",
       "   'appointed'],\n",
       "  'negative'),\n",
       " (['@mitchellvii:',\n",
       "   'exactly',\n",
       "   'said',\n",
       "   'house',\n",
       "   'intel',\n",
       "   'chair:',\n",
       "   'cannot',\n",
       "   'rule',\n",
       "   'out',\n",
       "   'sr.',\n",
       "   'obama',\n",
       "   'officials',\n",
       "   'were',\n",
       "   'involved',\n",
       "   'trump',\n",
       "   'surveillance',\n",
       "   'https://\\xe2\\x80\\xa6'],\n",
       "  'negative'),\n",
       " (['did',\n",
       "   'hillary',\n",
       "   'clinton',\n",
       "   'ever',\n",
       "   'apologize',\n",
       "   'for',\n",
       "   'receiving',\n",
       "   'the',\n",
       "   'answers',\n",
       "   'the',\n",
       "   'debate?',\n",
       "   'just',\n",
       "   'asking!'],\n",
       "  'negative'),\n",
       " (['was',\n",
       "   'the',\n",
       "   'brother',\n",
       "   'john',\n",
       "   'podesta',\n",
       "   'paid',\n",
       "   'big',\n",
       "   'money',\n",
       "   'get',\n",
       "   'the',\n",
       "   'sanctions',\n",
       "   'russia',\n",
       "   'lifted?',\n",
       "   'did',\n",
       "   'hillary',\n",
       "   'know?'],\n",
       "  'negative'),\n",
       " (['such',\n",
       "   'amazing',\n",
       "   'reporting',\n",
       "   'unmasking',\n",
       "   'and',\n",
       "   'the',\n",
       "   'crooked',\n",
       "   'scheme',\n",
       "   'against',\n",
       "   '@foxandfriends.',\n",
       "   '\"spied',\n",
       "   'before',\n",
       "   'nomination.\"',\n",
       "   'the',\n",
       "   'real',\n",
       "   'story.'],\n",
       "  'negative')]"
      ]
     },
     "execution_count": 67,
     "metadata": {},
     "output_type": "execute_result"
    }
   ],
   "source": [
    "tweets"
   ]
  },
  {
   "cell_type": "code",
   "execution_count": 68,
   "metadata": {
    "collapsed": false,
    "deletable": true,
    "editable": true
   },
   "outputs": [],
   "source": [
    "def get_words_in_tweets(tweets):\n",
    "    all_words = []\n",
    "    for (words, sentiment) in tweets:\n",
    "      all_words.extend(words)\n",
    "    return all_words\n",
    "\n",
    "def get_word_features(wordlist):\n",
    "    wordlist = nltk.FreqDist(wordlist)\n",
    "    word_features = wordlist.keys()\n",
    "    return word_features\n",
    "\n",
    "word_features = get_word_features(get_words_in_tweets(tweets))"
   ]
  },
  {
   "cell_type": "code",
   "execution_count": 69,
   "metadata": {
    "collapsed": false,
    "deletable": true,
    "editable": true,
    "scrolled": false
   },
   "outputs": [
    {
     "data": {
      "text/plain": [
       "['all',\n",
       " 'just',\n",
       " 'money',\n",
       " 'over',\n",
       " 'month',\n",
       " 'https://t.co/reji9ahoay',\n",
       " 'asian',\n",
       " 'follow',\n",
       " 'contributions',\n",
       " 'before',\n",
       " 'announcement',\n",
       " 'thank',\n",
       " 'much',\n",
       " 'know?',\n",
       " 'announce',\n",
       " 'real',\n",
       " 'get',\n",
       " 'enrich',\n",
       " 'michigan',\n",
       " 'cannot',\n",
       " 'today.',\n",
       " 'today,',\n",
       " 'celebrate',\n",
       " 'jobs!',\n",
       " 'intel',\n",
       " 'did',\n",
       " 'companies',\n",
       " 'brother',\n",
       " 'scrapping',\n",
       " 'charter',\n",
       " 'house',\n",
       " '700',\n",
       " 'back',\n",
       " 'pacific',\n",
       " 'officials',\n",
       " '\"spied',\n",
       " 'our',\n",
       " 'investment',\n",
       " 'special',\n",
       " 'out',\n",
       " 'said',\n",
       " 'islanders',\n",
       " 'for',\n",
       " 'crooked',\n",
       " 'nomination.\"',\n",
       " 'sr.',\n",
       " 'lifted?',\n",
       " 'years.',\n",
       " 'new',\n",
       " 'receiving',\n",
       " 'ever',\n",
       " '@foxandfriends.',\n",
       " 'jobs',\n",
       " 'creating',\n",
       " 'chair:',\n",
       " 'u.s.',\n",
       " 'never',\n",
       " 'answers',\n",
       " '&amp;',\n",
       " 'beginning',\n",
       " 'unmasking',\n",
       " 'involved',\n",
       " 'against',\n",
       " 'american',\n",
       " 'place',\n",
       " 'debate?',\n",
       " 'scheme',\n",
       " 'podesta',\n",
       " 'major',\n",
       " 'clinton',\n",
       " 'campaign',\n",
       " 'win',\n",
       " 'commitment',\n",
       " 'communications!',\n",
       " 'americans',\n",
       " 'apologize',\n",
       " 'story.',\n",
       " 'illegal',\n",
       " 'there',\n",
       " 'three',\n",
       " 'next',\n",
       " 'nation.',\n",
       " '@mitchellvii:',\n",
       " 'john',\n",
       " 'was',\n",
       " 'more',\n",
       " 'administration,',\n",
       " 'that',\n",
       " 'exactly',\n",
       " 'took',\n",
       " 'ford',\n",
       " 'hillary',\n",
       " 'with',\n",
       " 'appointed',\n",
       " 'obama',\n",
       " 'counsel',\n",
       " 'made',\n",
       " 'sanctions',\n",
       " 'this',\n",
       " 'car',\n",
       " 'were',\n",
       " 'asking!',\n",
       " 'russia',\n",
       " 'and',\n",
       " 'trump',\n",
       " 'mexico',\n",
       " '20k',\n",
       " 'plants.',\n",
       " 'acts',\n",
       " '$25',\n",
       " 'surveillance',\n",
       " 'amazing',\n",
       " 'big',\n",
       " 'you',\n",
       " 'plant',\n",
       " 'thrilled',\n",
       " 'reporting',\n",
       " 'paid',\n",
       " 'https://\\xe2\\x80\\xa6',\n",
       " 'montana',\n",
       " 'coming',\n",
       " 'such',\n",
       " 'billion',\n",
       " 'republicans!',\n",
       " 'rule',\n",
       " 'the']"
      ]
     },
     "execution_count": 69,
     "metadata": {},
     "output_type": "execute_result"
    }
   ],
   "source": [
    "word_features"
   ]
  },
  {
   "cell_type": "code",
   "execution_count": 70,
   "metadata": {
    "collapsed": true,
    "deletable": true,
    "editable": true
   },
   "outputs": [],
   "source": [
    "def extract_features(document):\n",
    "    document_words = set(document)\n",
    "    features = {}\n",
    "    for word in word_features:\n",
    "        features['contains: %s' % word] = (word in document_words)\n",
    "    return features"
   ]
  },
  {
   "cell_type": "code",
   "execution_count": 71,
   "metadata": {
    "collapsed": true,
    "deletable": true,
    "editable": true
   },
   "outputs": [],
   "source": [
    "training_set = nltk.classify.apply_features(extract_features, tweets)"
   ]
  },
  {
   "cell_type": "code",
   "execution_count": 72,
   "metadata": {
    "collapsed": false,
    "deletable": true,
    "editable": true
   },
   "outputs": [
    {
     "data": {
      "text/plain": [
       "[({'contains: americans': False, 'contains: podesta': False, 'contains: acts': False, 'contains: republicans!': True, 'contains: get': False, 'contains: before': False, 'contains: that': False, 'contains: charter': False, 'contains: new': False, 'contains: counsel': False, 'contains: took': False, 'contains: pacific': False, 'contains: big': True, 'contains: contributions': False, 'contains: this': False, 'contains: real': False, 'contains: today,': False, 'contains: today.': False, 'contains: beginning': False, 'contains: with': False, 'contains: and': False, 'contains: nation.': False, 'contains: jobs': False, 'contains: 700': False, 'contains: out': False, 'contains: our': False, 'contains: 20k': False, 'contains: billion': False, 'contains: communications!': False, 'contains: made': False, 'contains: commitment': False, 'contains: american': False, 'contains: answers': False, 'contains: investment': False, 'contains: place': False, 'contains: thrilled': False, 'contains: appointed': False, 'contains: rule': False, 'contains: administration,': False, 'contains: said': False, 'contains: major': False, 'contains: intel': False, 'contains: years.': False, 'contains: celebrate': False, 'contains: michigan': False, 'contains: receiving': False, 'contains: mexico': False, 'contains: all': False, 'contains: there': False, 'contains: cannot': False, 'contains: campaign': False, 'contains: lifted?': False, 'contains: surveillance': False, 'contains: reporting': False, 'contains: involved': False, 'contains: hillary': False, 'contains: debate?': False, 'contains: @mitchellvii:': False, 'contains: for': True, 'contains: https://t.co/reji9ahoay': False, 'contains: obama': False, 'contains: @foxandfriends.': False, 'contains: u.s.': False, 'contains: money': False, 'contains: russia': False, 'contains: officials': False, 'contains: announcement': False, 'contains: win': True, 'contains: special': False, 'contains: john': False, 'contains: over': False, 'contains: asian': False, 'contains: was': False, 'contains: asking!': False, 'contains: sanctions': False, 'contains: jobs!': False, 'contains: nomination.\"': False, 'contains: you': False, 'contains: know?': False, 'contains: brother': False, 'contains: chair:': False, 'contains: back': False, 'contains: companies': False, 'contains: were': False, 'contains: just': False, 'contains: three': False, 'contains: scheme': False, 'contains: car': False, 'contains: islanders': False, 'contains: \"spied': False, 'contains: more': False, 'contains: did': False, 'contains: next': False, 'contains: the': False, 'contains: announce': False, 'contains: ever': False, 'contains: clinton': False, 'contains: enrich': False, 'contains: unmasking': False, 'contains: coming': False, 'contains: paid': False, 'contains: illegal': False, 'contains: sr.': False, 'contains: crooked': False, 'contains: &amp;': False, 'contains: creating': False, 'contains: house': False, 'contains: month': False, 'contains: apologize': False, 'contains: much': False, 'contains: $25': False, 'contains: https://\\xe2\\x80\\xa6': False, 'contains: trump': False, 'contains: scrapping': False, 'contains: amazing': False, 'contains: such': False, 'contains: plant': False, 'contains: never': False, 'contains: story.': False, 'contains: exactly': False, 'contains: against': False, 'contains: ford': False, 'contains: plants.': False, 'contains: thank': False, 'contains: follow': False, 'contains: montana': True}, 'positive'), ({'contains: americans': False, 'contains: podesta': False, 'contains: acts': False, 'contains: republicans!': False, 'contains: get': False, 'contains: before': False, 'contains: that': False, 'contains: charter': False, 'contains: new': True, 'contains: counsel': False, 'contains: took': False, 'contains: pacific': False, 'contains: big': False, 'contains: contributions': False, 'contains: this': True, 'contains: real': False, 'contains: today,': False, 'contains: today.': False, 'contains: beginning': True, 'contains: with': False, 'contains: and': True, 'contains: nation.': False, 'contains: jobs': True, 'contains: 700': True, 'contains: out': False, 'contains: our': False, 'contains: 20k': False, 'contains: billion': False, 'contains: communications!': False, 'contains: made': False, 'contains: commitment': False, 'contains: american': False, 'contains: answers': False, 'contains: investment': False, 'contains: place': False, 'contains: thrilled': False, 'contains: appointed': False, 'contains: rule': False, 'contains: administration,': False, 'contains: said': False, 'contains: major': False, 'contains: intel': False, 'contains: years.': False, 'contains: celebrate': False, 'contains: michigan': False, 'contains: receiving': False, 'contains: mexico': True, 'contains: all': False, 'contains: there': False, 'contains: cannot': False, 'contains: campaign': False, 'contains: lifted?': False, 'contains: surveillance': False, 'contains: reporting': False, 'contains: involved': False, 'contains: hillary': False, 'contains: debate?': False, 'contains: @mitchellvii:': False, 'contains: for': True, 'contains: https://t.co/reji9ahoay': False, 'contains: obama': False, 'contains: @foxandfriends.': False, 'contains: u.s.': True, 'contains: money': False, 'contains: russia': False, 'contains: officials': False, 'contains: announcement': False, 'contains: win': False, 'contains: special': False, 'contains: john': False, 'contains: over': False, 'contains: asian': False, 'contains: was': False, 'contains: asking!': False, 'contains: sanctions': False, 'contains: jobs!': False, 'contains: nomination.\"': False, 'contains: you': True, 'contains: know?': False, 'contains: brother': False, 'contains: chair:': False, 'contains: back': False, 'contains: companies': False, 'contains: were': False, 'contains: just': True, 'contains: three': False, 'contains: scheme': False, 'contains: car': False, 'contains: islanders': False, 'contains: \"spied': False, 'contains: more': True, 'contains: did': False, 'contains: next': False, 'contains: the': True, 'contains: announce': False, 'contains: ever': False, 'contains: clinton': False, 'contains: enrich': False, 'contains: unmasking': False, 'contains: coming': False, 'contains: paid': False, 'contains: illegal': False, 'contains: sr.': False, 'contains: crooked': False, 'contains: &amp;': False, 'contains: creating': True, 'contains: house': False, 'contains: month': False, 'contains: apologize': False, 'contains: much': True, 'contains: $25': False, 'contains: https://\\xe2\\x80\\xa6': False, 'contains: trump': False, 'contains: scrapping': True, 'contains: amazing': False, 'contains: such': False, 'contains: plant': True, 'contains: never': False, 'contains: story.': False, 'contains: exactly': False, 'contains: against': False, 'contains: ford': True, 'contains: plants.': False, 'contains: thank': True, 'contains: follow': True, 'contains: montana': False}, 'positive'), ...]"
      ]
     },
     "execution_count": 72,
     "metadata": {},
     "output_type": "execute_result"
    }
   ],
   "source": [
    "training_set"
   ]
  },
  {
   "cell_type": "code",
   "execution_count": 73,
   "metadata": {
    "collapsed": false,
    "deletable": true,
    "editable": true
   },
   "outputs": [],
   "source": [
    "classifier = nltk.NaiveBayesClassifier.train(training_set)\n"
   ]
  },
  {
   "cell_type": "code",
   "execution_count": 74,
   "metadata": {
    "collapsed": false,
    "deletable": true,
    "editable": true
   },
   "outputs": [
    {
     "name": "stdout",
     "output_type": "stream",
     "text": [
      "Most Informative Features\n",
      "           contains: for = True           positi : negati =      1.7 : 1.0\n",
      "           contains: the = False          positi : negati =      1.7 : 1.0\n",
      "           contains: was = True           negati : positi =      1.7 : 1.0\n",
      "           contains: big = True           positi : negati =      1.7 : 1.0\n",
      "          contains: jobs = False          negati : positi =      1.6 : 1.0\n",
      "       contains: hillary = False          positi : negati =      1.6 : 1.0\n",
      "         contains: obama = False          positi : negati =      1.6 : 1.0\n",
      "          contains: this = False          negati : positi =      1.6 : 1.0\n",
      "          contains: ford = False          negati : positi =      1.6 : 1.0\n",
      "           contains: you = False          negati : positi =      1.6 : 1.0\n",
      "         contains: thank = False          negati : positi =      1.6 : 1.0\n",
      "          contains: u.s. = False          negati : positi =      1.6 : 1.0\n",
      "           contains: did = False          positi : negati =      1.6 : 1.0\n",
      "       contains: clinton = False          positi : negati =      1.6 : 1.0\n",
      "           contains: was = False          positi : negati =      1.3 : 1.0\n",
      "           contains: for = False          negati : positi =      1.3 : 1.0\n",
      "           contains: big = False          negati : positi =      1.3 : 1.0\n",
      "           contains: the = True           negati : positi =      1.3 : 1.0\n",
      "       contains: montana = False          negati : positi =      1.2 : 1.0\n",
      "     contains: appointed = False          positi : negati =      1.2 : 1.0\n",
      "           contains: our = False          negati : positi =      1.2 : 1.0\n",
      "     contains: celebrate = False          negati : positi =      1.2 : 1.0\n",
      "        contains: russia = False          positi : negati =      1.2 : 1.0\n",
      "       contains: billion = False          negati : positi =      1.2 : 1.0\n",
      "       contains: special = False          positi : negati =      1.2 : 1.0\n",
      "      contains: announce = False          negati : positi =      1.2 : 1.0\n",
      "      contains: campaign = False          positi : negati =      1.2 : 1.0\n",
      "           contains: sr. = False          positi : negati =      1.2 : 1.0\n",
      "     contains: islanders = False          negati : positi =      1.2 : 1.0\n",
      " contains: contributions = False          negati : positi =      1.2 : 1.0\n",
      "        contains: enrich = False          negati : positi =      1.2 : 1.0\n",
      "      contains: american = False          negati : positi =      1.2 : 1.0\n",
      "None\n"
     ]
    }
   ],
   "source": [
    "print classifier.show_most_informative_features(32)\n"
   ]
  },
  {
   "cell_type": "code",
   "execution_count": 105,
   "metadata": {
    "collapsed": true,
    "deletable": true,
    "editable": true
   },
   "outputs": [],
   "source": [
    "tweet = 'crooked'"
   ]
  },
  {
   "cell_type": "code",
   "execution_count": 106,
   "metadata": {
    "collapsed": false,
    "deletable": true,
    "editable": true
   },
   "outputs": [
    {
     "name": "stdout",
     "output_type": "stream",
     "text": [
      "negative\n"
     ]
    }
   ],
   "source": [
    "print classifier.classify(extract_features(tweet.split()))\n"
   ]
  },
  {
   "cell_type": "code",
   "execution_count": 100,
   "metadata": {
    "collapsed": false,
    "deletable": true,
    "editable": true
   },
   "outputs": [
    {
     "data": {
      "text/plain": [
       "<ProbDist with 2 samples>"
      ]
     },
     "execution_count": 100,
     "metadata": {},
     "output_type": "execute_result"
    }
   ],
   "source": [
    "classifier.prob_classify(extract_features(tweet.split()))"
   ]
  },
  {
   "cell_type": "code",
   "execution_count": 107,
   "metadata": {
    "collapsed": false
   },
   "outputs": [
    {
     "data": {
      "text/plain": [
       "'negative'"
      ]
     },
     "execution_count": 107,
     "metadata": {},
     "output_type": "execute_result"
    }
   ],
   "source": [
    "classifier.prob_classify(extract_features(tweet.split())).max()"
   ]
  },
  {
   "cell_type": "code",
   "execution_count": null,
   "metadata": {
    "collapsed": true
   },
   "outputs": [],
   "source": []
  },
  {
   "cell_type": "code",
   "execution_count": null,
   "metadata": {
    "collapsed": true
   },
   "outputs": [],
   "source": []
  }
 ],
 "metadata": {
  "kernelspec": {
   "display_name": "Python 2",
   "language": "python",
   "name": "python2"
  },
  "language_info": {
   "codemirror_mode": {
    "name": "ipython",
    "version": 2
   },
   "file_extension": ".py",
   "mimetype": "text/x-python",
   "name": "python",
   "nbconvert_exporter": "python",
   "pygments_lexer": "ipython2",
   "version": "2.7.13"
  }
 },
 "nbformat": 4,
 "nbformat_minor": 2
}
