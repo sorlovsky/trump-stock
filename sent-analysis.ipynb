{
 "cells": [
  {
   "cell_type": "code",
   "execution_count": 17,
   "metadata": {
    "collapsed": true
   },
   "outputs": [],
   "source": [
    "import nltk"
   ]
  },
  {
   "cell_type": "code",
   "execution_count": 76,
   "metadata": {
    "collapsed": true
   },
   "outputs": [],
   "source": [
    "pos_tweets = [('Big win in Montana for Republicans!', 'positive'),\n",
    "              ('Thank you to Ford for scrapping a new plant in Mexico and creating 700 new jobs in the U.S. This is just the beginning - much more to follow', 'positive'),\n",
    "              ('I feel great this morning', 'positive'),\n",
    "              ('I am so excited about the concert', 'positive'),\n",
    "              ('He is my best friend', 'positive')]\n",
    "\n",
    "neg_tweets = [('With all of the illegal acts that took place in the Clinton campaign & Obama Administration, there was never a special counsel appointed', 'negative'),\n",
    "              ('This view is horrible', 'negative'),\n",
    "              ('I feel tired this morning', 'negative'),\n",
    "              ('I am not looking forward to the concert', 'negative'),\n",
    "              ('He is my enemy', 'negative')]\n",
    "\n",
    "tweets = []\n",
    "for (words, sentiment) in pos_tweets + neg_tweets:\n",
    "    words_filtered = [e.lower() for e in words.split() if len(e) >= 3] \n",
    "    tweets.append((words_filtered, sentiment))"
   ]
  },
  {
   "cell_type": "code",
   "execution_count": 75,
   "metadata": {
    "collapsed": false,
    "scrolled": false
   },
   "outputs": [
    {
     "data": {
      "text/plain": [
       "[(['big', 'win', 'montana', 'for', 'republicans!'], 'positive'),\n",
       " (['thank',\n",
       "   'you',\n",
       "   'ford',\n",
       "   'for',\n",
       "   'scrapping',\n",
       "   'new',\n",
       "   'plant',\n",
       "   'mexico',\n",
       "   'and',\n",
       "   'creating',\n",
       "   '700',\n",
       "   'new',\n",
       "   'jobs',\n",
       "   'the',\n",
       "   'u.s.',\n",
       "   'this',\n",
       "   'just',\n",
       "   'the',\n",
       "   'beginning',\n",
       "   'much',\n",
       "   'more',\n",
       "   'follow'],\n",
       "  'positive'),\n",
       " (['feel', 'great', 'this', 'morning'], 'positive'),\n",
       " (['excited', 'about', 'the', 'concert'], 'positive'),\n",
       " (['best', 'friend'], 'positive'),\n",
       " (['with',\n",
       "   'all',\n",
       "   'the',\n",
       "   'illegal',\n",
       "   'acts',\n",
       "   'that',\n",
       "   'took',\n",
       "   'place',\n",
       "   'the',\n",
       "   'clinton',\n",
       "   'campaign',\n",
       "   'obama',\n",
       "   'administration,',\n",
       "   'there',\n",
       "   'was',\n",
       "   'never',\n",
       "   'special',\n",
       "   'counsel',\n",
       "   'appointed'],\n",
       "  'negative'),\n",
       " (['this', 'view', 'horrible'], 'negative'),\n",
       " (['feel', 'tired', 'this', 'morning'], 'negative'),\n",
       " (['not', 'looking', 'forward', 'the', 'concert'], 'negative'),\n",
       " (['enemy'], 'negative')]"
      ]
     },
     "execution_count": 75,
     "metadata": {},
     "output_type": "execute_result"
    }
   ],
   "source": [
    "tweets"
   ]
  },
  {
   "cell_type": "code",
   "execution_count": 60,
   "metadata": {
    "collapsed": false
   },
   "outputs": [],
   "source": [
    "def get_words_in_tweets(tweets):\n",
    "    all_words = []\n",
    "    for (words, sentiment) in tweets:\n",
    "      all_words.extend(words)\n",
    "    return all_words\n",
    "\n",
    "def get_word_features(wordlist):\n",
    "    wordlist = nltk.FreqDist(wordlist)\n",
    "    word_features = wordlist.keys()\n",
    "    return word_features\n",
    "\n",
    "word_features = get_word_features(get_words_in_tweets(tweets))"
   ]
  },
  {
   "cell_type": "code",
   "execution_count": 61,
   "metadata": {
    "collapsed": false,
    "scrolled": false
   },
   "outputs": [
    {
     "data": {
      "text/plain": [
       "['and',\n",
       " 'all',\n",
       " 'there',\n",
       " 'clinton',\n",
       " 'concert',\n",
       " 'just',\n",
       " 'mexico',\n",
       " 'feel',\n",
       " 'win',\n",
       " '700',\n",
       " 'follow',\n",
       " 'best',\n",
       " 'administration,',\n",
       " 'thank',\n",
       " 'for',\n",
       " 'with',\n",
       " 'acts',\n",
       " 'tired',\n",
       " 'looking',\n",
       " 'much',\n",
       " 'special',\n",
       " 'horrible',\n",
       " 'forward',\n",
       " 'new',\n",
       " 'you',\n",
       " 'campaign',\n",
       " 'was',\n",
       " 'excited',\n",
       " 'friend',\n",
       " 'more',\n",
       " 'plant',\n",
       " 'jobs',\n",
       " 'creating',\n",
       " 'that',\n",
       " 'big',\n",
       " 'u.s.',\n",
       " 'never',\n",
       " 'about',\n",
       " 'ford',\n",
       " 'montana',\n",
       " 'not',\n",
       " 'beginning',\n",
       " 'appointed',\n",
       " 'obama',\n",
       " 'enemy',\n",
       " 'great',\n",
       " 'this',\n",
       " 'counsel',\n",
       " 'republicans!',\n",
       " 'morning',\n",
       " 'scrapping',\n",
       " 'place',\n",
       " 'illegal',\n",
       " 'the',\n",
       " 'took',\n",
       " 'view']"
      ]
     },
     "execution_count": 61,
     "metadata": {},
     "output_type": "execute_result"
    }
   ],
   "source": [
    "word_features"
   ]
  },
  {
   "cell_type": "code",
   "execution_count": 82,
   "metadata": {
    "collapsed": true
   },
   "outputs": [],
   "source": [
    "def extract_features(document):\n",
    "    document_words = set(document)\n",
    "    features = {}\n",
    "    for word in word_features:\n",
    "        features['contains: %s' % word] = (word in document_words)\n",
    "    return features"
   ]
  },
  {
   "cell_type": "code",
   "execution_count": 83,
   "metadata": {
    "collapsed": true
   },
   "outputs": [],
   "source": [
    "training_set = nltk.classify.apply_features(extract_features, tweets)"
   ]
  },
  {
   "cell_type": "code",
   "execution_count": 84,
   "metadata": {
    "collapsed": false
   },
   "outputs": [
    {
     "data": {
      "text/plain": [
       "[({'contains: excited': False, 'contains: best': False, 'contains: horrible': False, 'contains: tired': False, 'contains: for': True, 'contains: illegal': False, 'contains: obama': False, 'contains: not': False, 'contains: u.s.': False, 'contains: enemy': False, 'contains: clinton': False, 'contains: acts': False, 'contains: republicans!': True, 'contains: the': False, 'contains: more': False, 'contains: big': True, 'contains: that': False, 'contains: new': False, 'contains: place': False, 'contains: feel': False, 'contains: appointed': False, 'contains: took': False, 'contains: win': True, 'contains: creating': False, 'contains: special': False, 'contains: ford': False, 'contains: view': False, 'contains: this': False, 'contains: looking': False, 'contains: much': False, 'contains: friend': False, 'contains: morning': False, 'contains: forward': False, 'contains: beginning': False, 'contains: was': False, 'contains: with': False, 'contains: counsel': False, 'contains: you': False, 'contains: mexico': False, 'contains: all': False, 'contains: and': False, 'contains: there': False, 'contains: plant': False, 'contains: campaign': False, 'contains: great': False, 'contains: just': False, 'contains: never': False, 'contains: jobs': False, 'contains: 700': False, 'contains: scrapping': False, 'contains: administration,': False, 'contains: about': False, 'contains: thank': False, 'contains: concert': False, 'contains: follow': False, 'contains: montana': True}, 'positive'), ({'contains: excited': False, 'contains: best': False, 'contains: horrible': False, 'contains: tired': False, 'contains: for': True, 'contains: illegal': False, 'contains: obama': False, 'contains: not': False, 'contains: u.s.': True, 'contains: enemy': False, 'contains: clinton': False, 'contains: acts': False, 'contains: republicans!': False, 'contains: the': True, 'contains: more': True, 'contains: big': False, 'contains: that': False, 'contains: new': True, 'contains: place': False, 'contains: feel': False, 'contains: appointed': False, 'contains: took': False, 'contains: win': False, 'contains: creating': True, 'contains: special': False, 'contains: ford': True, 'contains: view': False, 'contains: this': True, 'contains: looking': False, 'contains: much': True, 'contains: friend': False, 'contains: morning': False, 'contains: forward': False, 'contains: beginning': True, 'contains: was': False, 'contains: with': False, 'contains: counsel': False, 'contains: you': True, 'contains: mexico': True, 'contains: all': False, 'contains: and': True, 'contains: there': False, 'contains: plant': True, 'contains: campaign': False, 'contains: great': False, 'contains: just': True, 'contains: never': False, 'contains: jobs': True, 'contains: 700': True, 'contains: scrapping': True, 'contains: administration,': False, 'contains: about': False, 'contains: thank': True, 'contains: concert': False, 'contains: follow': True, 'contains: montana': False}, 'positive'), ...]"
      ]
     },
     "execution_count": 84,
     "metadata": {},
     "output_type": "execute_result"
    }
   ],
   "source": [
    "training_set"
   ]
  },
  {
   "cell_type": "code",
   "execution_count": 65,
   "metadata": {
    "collapsed": false
   },
   "outputs": [],
   "source": [
    "classifier = nltk.NaiveBayesClassifier.train(training_set)\n"
   ]
  },
  {
   "cell_type": "code",
   "execution_count": 66,
   "metadata": {
    "collapsed": false
   },
   "outputs": [
    {
     "name": "stdout",
     "output_type": "stream",
     "text": [
      "Most Informative Features\n",
      "           contains(for) = False          negati : positi =      1.6 : 1.0\n",
      "         contains(place) = False          positi : negati =      1.2 : 1.0\n",
      "         contains(obama) = False          positi : negati =      1.2 : 1.0\n",
      "           contains(you) = False          negati : positi =      1.2 : 1.0\n",
      "           contains(and) = False          negati : positi =      1.2 : 1.0\n",
      "          contains(with) = False          positi : negati =      1.2 : 1.0\n",
      "       contains(looking) = False          positi : negati =      1.2 : 1.0\n",
      "         contains(great) = False          negati : positi =      1.2 : 1.0\n",
      "       contains(counsel) = False          positi : negati =      1.2 : 1.0\n",
      "       contains(forward) = False          positi : negati =      1.2 : 1.0\n",
      "        contains(friend) = False          negati : positi =      1.2 : 1.0\n",
      "           contains(all) = False          positi : negati =      1.2 : 1.0\n",
      "         contains(about) = False          negati : positi =      1.2 : 1.0\n",
      "           contains(win) = False          negati : positi =      1.2 : 1.0\n",
      "contains(administration,) = False          positi : negati =      1.2 : 1.0\n",
      "          contains(much) = False          negati : positi =      1.2 : 1.0\n",
      "         contains(there) = False          positi : negati =      1.2 : 1.0\n",
      "          contains(more) = False          negati : positi =      1.2 : 1.0\n",
      "        contains(follow) = False          negati : positi =      1.2 : 1.0\n",
      "       contains(illegal) = False          positi : negati =      1.2 : 1.0\n",
      "           contains(big) = False          negati : positi =      1.2 : 1.0\n",
      "          contains(u.s.) = False          negati : positi =      1.2 : 1.0\n",
      "          contains(took) = False          positi : negati =      1.2 : 1.0\n",
      "      contains(horrible) = False          positi : negati =      1.2 : 1.0\n",
      "           contains(700) = False          negati : positi =      1.2 : 1.0\n",
      "         contains(tired) = False          positi : negati =      1.2 : 1.0\n",
      "       contains(excited) = False          negati : positi =      1.2 : 1.0\n",
      "       contains(clinton) = False          positi : negati =      1.2 : 1.0\n",
      "           contains(new) = False          negati : positi =      1.2 : 1.0\n",
      "           contains(not) = False          positi : negati =      1.2 : 1.0\n",
      "         contains(plant) = False          negati : positi =      1.2 : 1.0\n",
      "          contains(ford) = False          negati : positi =      1.2 : 1.0\n",
      "None\n"
     ]
    }
   ],
   "source": [
    "print classifier.show_most_informative_features(32)\n"
   ]
  },
  {
   "cell_type": "code",
   "execution_count": 80,
   "metadata": {
    "collapsed": true
   },
   "outputs": [],
   "source": [
    "tweet = 'obama and clinton'"
   ]
  },
  {
   "cell_type": "code",
   "execution_count": 81,
   "metadata": {
    "collapsed": false
   },
   "outputs": [
    {
     "name": "stdout",
     "output_type": "stream",
     "text": [
      "negative\n"
     ]
    }
   ],
   "source": [
    "print classifier.classify(extract_features(tweet.split()))\n"
   ]
  },
  {
   "cell_type": "code",
   "execution_count": null,
   "metadata": {
    "collapsed": true
   },
   "outputs": [],
   "source": []
  }
 ],
 "metadata": {
  "kernelspec": {
   "display_name": "Python 2",
   "language": "python",
   "name": "python2"
  },
  "language_info": {
   "codemirror_mode": {
    "name": "ipython",
    "version": 2
   },
   "file_extension": ".py",
   "mimetype": "text/x-python",
   "name": "python",
   "nbconvert_exporter": "python",
   "pygments_lexer": "ipython2",
   "version": "2.7.13"
  }
 },
 "nbformat": 4,
 "nbformat_minor": 2
}
